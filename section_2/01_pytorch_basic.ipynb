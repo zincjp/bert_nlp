{
  "cells": [
    {
      "cell_type": "markdown",
      "metadata": {
        "colab_type": "text",
        "id": "view-in-github"
      },
      "source": [
        "<a href=\"https://colab.research.google.com/github/yukinaga/bert_nlp/blob/main/section_2/01_pytorch_basic.ipynb\" target=\"_parent\"><img src=\"https://colab.research.google.com/assets/colab-badge.svg\" alt=\"Open In Colab\"/></a>"
      ]
    },
    {
      "cell_type": "markdown",
      "metadata": {
        "id": "Niaz8_W6OX34"
      },
      "source": [
        "# PyTorchの基礎\n",
        "PyTorchの基礎を学ぶために、ニューラルネットワークを訓練して手書き文字の認識を行います。 \n"
      ]
    },
    {
      "cell_type": "markdown",
      "metadata": {
        "id": "x9Gzbn25XSlF"
      },
      "source": [
        "## データの読み込み\n",
        "`torchvision.datasets`を使って手書き文字のデータを読み込み、**DataLoader**を設定します。  \n",
        "DataLoaderを使うと、データの読み込みやミニバッチ法の実装などが大幅に楽になります。   \n",
        "`torchvision.datasets`にはMNISTの他にも様々なデータセットが用意されています。  \n",
        "https://pytorch.org/docs/stable/torchvision/datasets.html\n"
      ]
    },
    {
      "cell_type": "code",
      "execution_count": 78,
      "metadata": {
        "id": "81Il03RNAmbS"
      },
      "outputs": [
        {
          "name": "stdout",
          "output_type": "stream",
          "text": [
            "訓練データの数: 60000 テストデータの数: 10000\n"
          ]
        }
      ],
      "source": [
        "import torch\n",
        "from torchvision.datasets import MNIST  # 手書き文字画像のデータ\n",
        "from torchvision import transforms\n",
        "from torch.utils.data import DataLoader\n",
        "\n",
        "# 訓練データを取得\n",
        "mnist_train = MNIST(\"./data\", \n",
        "                    train=True, download=True,#train data\n",
        "                    transform=transforms.ToTensor())\n",
        "# テストデータの取得\n",
        "mnist_test = MNIST(\"./data\",#保存場所\n",
        "                   train=False, download=True,#test data\n",
        "                   transform=transforms.ToTensor())\n",
        "print(\"訓練データの数:\", len(mnist_train), \"テストデータの数:\", len(mnist_test))\n",
        "\n",
        "# DataLoaderの設定\n",
        "img_size = 28\n",
        "batch_size = 256\n",
        "train_loader = DataLoader(mnist_train, #train用dataset指定\n",
        "                          batch_size=batch_size,#バッチサイズ指定\n",
        "                          shuffle=True)#randomに取り出す\n",
        "test_loader = DataLoader(mnist_test,#test用dataset指定\n",
        "                         batch_size=batch_size,\n",
        "                         shuffle=False)"
      ]
    },
    {
      "cell_type": "markdown",
      "metadata": {
        "id": "sFWHMOf2D4b1"
      },
      "source": [
        "手書き文字の画像サイズは、28×28になります。  \n",
        "\n"
      ]
    },
    {
      "cell_type": "markdown",
      "metadata": {
        "id": "FalXNYaJPkoE"
      },
      "source": [
        "## モデルの構築\n",
        "今回は、`nn.Module`モジュールを継承したクラスとして、モデルを構築します。  \n",
        "`.cuda()`により、モデルの計算はGPU上で行われるようになります。  "
      ]
    },
    {
      "cell_type": "code",
      "execution_count": 79,
      "metadata": {
        "id": "SuqqZmsh_jNK"
      },
      "outputs": [
        {
          "name": "stdout",
          "output_type": "stream",
          "text": [
            "Net(\n",
            "  (fc1): Linear(in_features=784, out_features=1024, bias=True)\n",
            "  (fc2): Linear(in_features=1024, out_features=512, bias=True)\n",
            "  (fc3): Linear(in_features=512, out_features=10, bias=True)\n",
            ")\n"
          ]
        }
      ],
      "source": [
        "import torch.nn as nn\n",
        "import torch.nn.functional as F#活性化関数など\n",
        "\n",
        "class Net(nn.Module):#Netクラスを定義-nn.Moduleを継承\n",
        "    def __init__(self):#Initializer=コンストラクタ\n",
        "        super().__init__()\n",
        "        self.fc1 = nn.Linear(img_size*img_size, 1024)  # free conected,nn.Linear=全結合層＝前後の層が全て結合 入力数：全ピクセル数なのでimg_size*img_size　中間層のニューロン：1024\n",
        "        self.fc2 = nn.Linear(1024, 512)#入力1024 出力512\n",
        "        self.fc3 = nn.Linear(512, 10)#入力512 出力10\n",
        "\n",
        "    def forward(self, x):#順伝搬のメソッド\n",
        "        x = x.view(-1, img_size*img_size)  # テンソルサイズ変換　バッチサイズ:-1(自動的に調整) 入力の数:img_size*img_size\n",
        "        x = F.relu(self.fc1(x))#xをfc1に入れてrelu\n",
        "        x = F.relu(self.fc2(x))#xをfc2に入れてrelu\n",
        "        x = self.fc3(x)#全結合層に入れて\n",
        "        return x#返り値\n",
        "\n",
        "net = Net()\n",
        "# net.cuda()  # GPU対応\n",
        "print(net)#モデルを表示"
      ]
    },
    {
      "cell_type": "code",
      "execution_count": 81,
      "metadata": {},
      "outputs": [
        {
          "data": {
            "text/plain": [
              "<bound method Module.parameters of Net(\n",
              "  (fc1): Linear(in_features=784, out_features=1024, bias=True)\n",
              "  (fc2): Linear(in_features=1024, out_features=512, bias=True)\n",
              "  (fc3): Linear(in_features=512, out_features=10, bias=True)\n",
              ")>"
            ]
          },
          "execution_count": 81,
          "metadata": {},
          "output_type": "execute_result"
        }
      ],
      "source": [
        "net.parameters"
      ]
    },
    {
      "cell_type": "markdown",
      "metadata": {},
      "source": [
        "### データセットを取り出し"
      ]
    },
    {
      "cell_type": "code",
      "execution_count": 82,
      "metadata": {},
      "outputs": [
        {
          "name": "stdout",
          "output_type": "stream",
          "text": [
            "train1_x.shape torch.Size([1, 28, 28])\n",
            "train1_y tensor([6])\n",
            "train1_y torch.Size([1])\n"
          ]
        },
        {
          "data": {
            "image/png": "[encoded data removed]",
            "text/plain": [
              "<Figure size 432x288 with 1 Axes>"
            ]
          },
          "metadata": {
            "needs_background": "light"
          },
          "output_type": "display_data"
        }
      ],
      "source": [
        "import matplotlib.pyplot as plt\n",
        "train1=[x for x in train_loader][0]\n",
        "train1_x=train1[0][0]\n",
        "train1_y=train1[1][0].reshape(1)\n",
        "\n",
        "# print((train1_x))\n",
        "print('train1_x.shape',train1_x.shape)\n",
        "plt.imshow(train1_x.reshape((28, 28)), cmap='gray')\n",
        "print('train1_y',train1_y)\n",
        "print('train1_y',train1_y.shape)"
      ]
    },
    {
      "cell_type": "markdown",
      "metadata": {},
      "source": []
    },
    {
      "cell_type": "markdown",
      "metadata": {},
      "source": [
        "### 作ったモデルでテスト"
      ]
    },
    {
      "cell_type": "code",
      "execution_count": 86,
      "metadata": {},
      "outputs": [
        {
          "name": "stdout",
          "output_type": "stream",
          "text": [
            "pred1_y: tensor([[ 0.0330,  0.0012, -0.0364, -0.0611,  0.0098,  0.0058,  0.0391, -0.0485,\n",
            "         -0.0064, -0.0259]], grad_fn=<AddmmBackward>)\n",
            "pred1_y.argmax(1): tensor([6])\n",
            "loss: 2.255065441131592\n"
          ]
        }
      ],
      "source": [
        "pred1_y=net(train1_x)\n",
        "print('pred1_y:',pred1_y)\n",
        "print('pred1_y.argmax(1):',pred1_y.argmax(1))\n",
        "loss=loss_fnc(pred1_y, train1_y)\n",
        "print('loss:',loss.item())"
      ]
    },
    {
      "cell_type": "markdown",
      "metadata": {
        "id": "qsW5zCKhQE9p"
      },
      "source": [
        "## 学習\n",
        "モデルを訓練します。  \n",
        "DataLoaderを使い、ミニバッチを取り出して訓練および評価を行います。  \n",
        "\n",
        "1エポックの中で何度もミニバッチを使って訓練が行われるので、ミニバッチ法が実装されていることになります。  \n",
        "学習には時間がかかりますので、編集→ノートブックの設定のハードウェアアクセラレーターにGPUが選択されていることを確認しましょう。\n"
      ]
    },
    {
      "cell_type": "code",
      "execution_count": 34,
      "metadata": {
        "id": "u6zwN3nArbGC"
      },
      "outputs": [
        {
          "name": "stdout",
          "output_type": "stream",
          "text": [
            "Epoch: 0 Loss_Train: 2.2188826043555077 Loss_Test: 2.091896706819534\n",
            "Epoch: 1 Loss_Train: 1.8313291909846854 Loss_Test: 1.4542297929525376\n",
            "Epoch: 2 Loss_Train: 1.1288062108323929 Loss_Test: 0.8396207392215729\n",
            "Epoch: 3 Loss_Train: 0.7290333950773199 Loss_Test: 0.6035501591861248\n",
            "Epoch: 4 Loss_Train: 0.5678150284797587 Loss_Test: 0.4972286742180586\n",
            "Epoch: 5 Loss_Train: 0.4869718133135045 Loss_Test: 0.43742791600525377\n",
            "Epoch: 6 Loss_Train: 0.43876032119101666 Loss_Test: 0.39988933857530357\n",
            "Epoch: 7 Loss_Train: 0.40705351487119146 Loss_Test: 0.37502485159784554\n",
            "Epoch: 8 Loss_Train: 0.3835600241701654 Loss_Test: 0.3559173052199185\n",
            "Epoch: 9 Loss_Train: 0.366364316356943 Loss_Test: 0.3408895983360708\n"
          ]
        }
      ],
      "source": [
        "from torch import optim#最適化アルゴリズム\n",
        "\n",
        "# 交差エントロピー誤差関数\n",
        "loss_fnc = nn.CrossEntropyLoss()#誤算関数を指定\n",
        "\n",
        "# SGD\n",
        "optimizer = optim.SGD(net.parameters(), lr=0.01)#optimizerを設定　　lr学習係数\n",
        "\n",
        "# 損失のログ\n",
        "record_loss_train = []#訓練誤差記録用リスト\n",
        "record_loss_test = []#テスト誤差記録用リスト\n",
        "\n",
        "# 学習\n",
        "for i in range(10):  # 10エポック学習\n",
        "    net.train()  # 訓練モードにする\n",
        "    loss_train = 0 #誤差初期値0に設定\n",
        "    for j, (x, t) in enumerate(train_loader):  # ミニバッチ（x, t）を取り出す\n",
        "        # x, t = x.cuda(), t.cuda()  # GPU対応\n",
        "        y = net(x)#先のモデルにx入力\n",
        "        loss = loss_fnc(y, t)#誤差を計算\n",
        "        loss_train += loss.item()#計算誤差を足していく、.itemはテンソルから値を取り出すメソッド\n",
        "        optimizer.zero_grad()#勾配の値をリセット\n",
        "        loss.backward()#誤差逆伝搬を行う,勾配の計算のみ。\n",
        "        optimizer.step()#パラメータ更新を行う\n",
        "    loss_train /= j+1#1エポック数の平均で割る\n",
        "    record_loss_train.append(loss_train)#record_loss_trainにappend\n",
        "\n",
        "    net.eval()  # 評価モード\n",
        "    loss_test = 0#誤差初期値\n",
        "    for j, (x, t) in enumerate(test_loader):  # ミニバッチ（x, t）を取り出す\n",
        "        # x, t = x.cuda(), t.cuda()\n",
        "        y = net(x)#順伝搬\n",
        "        loss = loss_fnc(y, t)#誤差計算\n",
        "        loss_test += loss.item()#誤差を足していく\n",
        "    loss_test /= j+1\n",
        "    record_loss_test.append(loss_test)\n",
        "\n",
        "    if i%1 == 0:\n",
        "        print(\"Epoch:\", i, \"Loss_Train:\", loss_train, \"Loss_Test:\", loss_test)"
      ]
    },
    {
      "cell_type": "markdown",
      "metadata": {
        "id": "rJwwrWTw43rx"
      },
      "source": [
        "## 誤差の推移\n",
        "訓練データ、テストデータで誤差の推移をグラフ表示します。  "
      ]
    },
    {
      "cell_type": "code",
      "execution_count": 35,
      "metadata": {
        "id": "OaJx4swE45XI"
      },
      "outputs": [
        {
          "data": {
            "image/png": "[encoded data removed]",
            "text/plain": [
              "<Figure size 432x288 with 1 Axes>"
            ]
          },
          "metadata": {
            "needs_background": "light"
          },
          "output_type": "display_data"
        }
      ],
      "source": [
        "import matplotlib.pyplot as plt\n",
        "\n",
        "plt.plot(range(len(record_loss_train)), record_loss_train, label=\"Train\")\n",
        "plt.plot(range(len(record_loss_test)), record_loss_test, label=\"Test\")\n",
        "plt.legend()\n",
        "\n",
        "plt.xlabel(\"Epochs\")\n",
        "plt.ylabel(\"Error\")\n",
        "plt.show()"
      ]
    },
    {
      "cell_type": "markdown",
      "metadata": {
        "id": "iMrpac0m4Nct"
      },
      "source": [
        "## 正解率\n",
        "モデルの性能を把握するため、テストデータ使い正解率を測定します。  "
      ]
    },
    {
      "cell_type": "code",
      "execution_count": 36,
      "metadata": {
        "id": "IRkGCYMM_N35"
      },
      "outputs": [
        {
          "name": "stdout",
          "output_type": "stream",
          "text": [
            "正解率: 90.24%\n"
          ]
        }
      ],
      "source": [
        "correct = 0#正解数\n",
        "total = 0#\n",
        "for i, (x, t) in enumerate(test_loader):\n",
        "    # x, t = x.cuda(), t.cuda()  # GPU対応\n",
        "    x = x.view(-1, img_size*img_size)\n",
        "    y = net(x)\n",
        "    correct += (y.argmax(1) == t).sum().item()#\n",
        "    total += len(x)\n",
        "print(\"正解率:\", str(correct/total*100) + \"%\")"
      ]
    },
    {
      "cell_type": "code",
      "execution_count": null,
      "metadata": {},
      "outputs": [],
      "source": []
    }
  ],
  "metadata": {
    "accelerator": "GPU",
    "colab": {
      "authorship_tag": "ABX9TyP585UWOSz8Mo/VjPKBegPn",
      "collapsed_sections": [],
      "include_colab_link": true,
      "name": "01_pytorch_basic.ipynb",
      "provenance": []
    },
    "interpreter": {
      "hash": "97fc227daf15f558c76cee51fea0c664fdfb6ddf24cf6be9290e749d428101db"
    },
    "kernelspec": {
      "display_name": "Python 3.9.7 64-bit ('bert_nlp': conda)",
      "name": "python3"
    },
    "language_info": {
      "codemirror_mode": {
        "name": "ipython",
        "version": 3
      },
      "file_extension": ".py",
      "mimetype": "text/x-python",
      "name": "python",
      "nbconvert_exporter": "python",
      "pygments_lexer": "ipython3",
      "version": "3.9.7"
    }
  },
  "nbformat": 4,
  "nbformat_minor": 0
}
